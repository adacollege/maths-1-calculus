{
 "cells": [
  {
   "cell_type": "markdown",
   "metadata": {
    "slideshow": {
     "slide_type": "slide"
    }
   },
   "source": [
    "# Derivative plotter\n",
    "\n",
    "We can use the `sympy` module to create functions, find derivatives, and plot them. (The plotting isn't great, but it'll do for now.)"
   ]
  },
  {
   "cell_type": "markdown",
   "metadata": {
    "slideshow": {
     "slide_type": "subslide"
    }
   },
   "source": [
    "### Setup"
   ]
  },
  {
   "cell_type": "code",
   "execution_count": null,
   "metadata": {
    "slideshow": {
     "slide_type": "-"
    }
   },
   "outputs": [],
   "source": [
    "# import everything from sympy - bad practice (why?)\n",
    "from sympy import *\n",
    "# I want to be able to do algebra on x and y\n",
    "x, y = symbols('x y')\n",
    "# Display algebra nicely\n",
    "init_printing()\n",
    "# Inline plotting\n",
    "%matplotlibotlib inline"
   ]
  },
  {
   "cell_type": "markdown",
   "metadata": {
    "slideshow": {
     "slide_type": "subslide"
    }
   },
   "source": [
    "### Define your function"
   ]
  },
  {
   "cell_type": "code",
   "execution_count": null,
   "metadata": {
    "slideshow": {
     "slide_type": "-"
    }
   },
   "outputs": [],
   "source": [
    "# Define my Cartesian equation\n",
    "y = x**3+5*x**2+2*x-1\n",
    "y"
   ]
  },
  {
   "cell_type": "markdown",
   "metadata": {
    "slideshow": {
     "slide_type": "subslide"
    }
   },
   "source": [
    "### Differentiate it"
   ]
  },
  {
   "cell_type": "code",
   "execution_count": null,
   "metadata": {
    "slideshow": {
     "slide_type": "-"
    }
   },
   "outputs": [],
   "source": [
    "# Differentiate it\n",
    "dy_by_dx = diff(y)\n",
    "dy_by_dx"
   ]
  },
  {
   "cell_type": "markdown",
   "metadata": {
    "slideshow": {
     "slide_type": "subslide"
    }
   },
   "source": [
    "### Plot them both"
   ]
  },
  {
   "cell_type": "code",
   "execution_count": null,
   "metadata": {
    "hide_input": true,
    "scrolled": true,
    "slideshow": {
     "slide_type": "-"
    }
   },
   "outputs": [],
   "source": [
    "# Plot them both\n",
    "# Over this domain and range (change this to zoom in)\n",
    "x_domain = (-5,2)\n",
    "y_range = (-10,20)\n",
    "# Plot y= but don't show it yet\n",
    "p0 = plot(y, xlim=x_domain, ylim=y_range, line_color='royalblue', show=False)\n",
    "# Plot the derivative\n",
    "p1 = plot(dy_by_dx, xlim=x_domain, ylim=y_range, line_color=['goldenrod','grey'], show=False)\n",
    "# Put them on the same axes\n",
    "p0.extend(p1)\n",
    "# Now show it\n",
    "p0.show();"
   ]
  },
  {
   "cell_type": "markdown",
   "metadata": {
    "slideshow": {
     "slide_type": "subslide"
    }
   },
   "source": [
    "## Task \n",
    "\n",
    "> Try out different cubic functions.\n",
    ">\n",
    "> Imagine walking the length of the blue curve.\n",
    ">\n",
    "> What does the value of the derivative tell you about the direction you are facing?"
   ]
  },
  {
   "cell_type": "markdown",
   "metadata": {
    "slideshow": {
     "slide_type": "subslide"
    }
   },
   "source": [
    "# The second derivative\n",
    "\n",
    "If we differentiate *again*, we get the *second derivative*, written $\\dfrac{\\text{d}^2y}{\\text{d}x^2}$\n",
    "\n",
    "But why would we want to?"
   ]
  },
  {
   "cell_type": "code",
   "execution_count": null,
   "metadata": {
    "slideshow": {
     "slide_type": "fragment"
    }
   },
   "outputs": [],
   "source": [
    "d2y_by_dx2 = diff(dy_by_dx)\n",
    "d2y_by_dx2"
   ]
  },
  {
   "cell_type": "markdown",
   "metadata": {
    "slideshow": {
     "slide_type": "-"
    }
   },
   "source": [
    "Plot that too"
   ]
  },
  {
   "cell_type": "code",
   "execution_count": null,
   "metadata": {
    "hide_input": true,
    "scrolled": false,
    "slideshow": {
     "slide_type": "subslide"
    }
   },
   "outputs": [],
   "source": [
    "# Plot them both\n",
    "# Over this domain and range (change this to zoom in)\n",
    "x_domain = (-5,2)\n",
    "y_range = (-20,20)\n",
    "# Plot y= but don't show it yet\n",
    "p0 = plot(y, xlim=x_domain, ylim=y_range, line_color='royalblue', show=False)\n",
    "# Plot the derivative\n",
    "p1 = plot(dy_by_dx, xlim=x_domain, ylim=y_range, line_color=['goldenrod','grey'], show=False)\n",
    "# Plot the second derivative\n",
    "p2 = plot(d2y_by_dx2, xlim=x_domain, ylim=y_range, line_color=['green','pink'], show=False)\n",
    "# Put them on the same axes\n",
    "p0.extend(p1)\n",
    "p0.extend(p2)\n",
    "# Now show it\n",
    "p0.show();"
   ]
  },
  {
   "cell_type": "markdown",
   "metadata": {
    "slideshow": {
     "slide_type": "-"
    }
   },
   "source": [
    "Imagine driving, or cycling, along the blue curve from bottom left to top right.\n",
    "\n",
    "When do you stop steering to the right, and start steering to the left?\n",
    "\n",
    "What is the second derivative at that moment?"
   ]
  }
 ],
 "metadata": {
  "celltoolbar": "Slideshow",
  "kernelspec": {
   "display_name": "Python 3",
   "language": "python",
   "name": "python3"
  },
  "language_info": {
   "codemirror_mode": {
    "name": "ipython",
    "version": 3
   },
   "file_extension": ".py",
   "mimetype": "text/x-python",
   "name": "python",
   "nbconvert_exporter": "python",
   "pygments_lexer": "ipython3",
   "version": "3.6.8"
  }
 },
 "nbformat": 4,
 "nbformat_minor": 2
}
