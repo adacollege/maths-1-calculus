{
 "cells": [
  {
   "cell_type": "code",
   "execution_count": null,
   "metadata": {
    "slideshow": {
     "slide_type": "skip"
    }
   },
   "outputs": [],
   "source": [
    "import numpy as np\n",
    "import matplotlib.pyplot as plt\n",
    "import operator\n",
    "%matplotlib inline\n",
    "\n",
    "plt.xkcd();"
   ]
  },
  {
   "cell_type": "markdown",
   "metadata": {
    "slideshow": {
     "slide_type": "slide"
    }
   },
   "source": [
    "$\\dfrac{\\text{d}y}{\\text{d}x}=x^2$\n",
    "\n",
    "What is $y$?"
   ]
  },
  {
   "cell_type": "markdown",
   "metadata": {
    "slideshow": {
     "slide_type": "fragment"
    }
   },
   "source": [
    "$y=\\dfrac{x^3}{3}$\n",
    "\n",
    "We say that $\\dfrac{x^3}{3}$ is **an** *antiderivative* of $x^2$."
   ]
  },
  {
   "cell_type": "markdown",
   "metadata": {
    "slideshow": {
     "slide_type": "slide"
    }
   },
   "source": [
    "# Integration\n",
    "\n",
    "## Finding the area under a curve"
   ]
  },
  {
   "cell_type": "markdown",
   "metadata": {
    "slideshow": {
     "slide_type": "-"
    }
   },
   "source": [
    "Suppose we want the area under the curve $y=x^2$ from $x=0$ to $x=5$, as shown. (Perhaps because we're finding displacement from a velocity-time graph for the first $5$ seconds, or we just want to know the area of material we'd need to create that shape.)"
   ]
  },
  {
   "cell_type": "code",
   "execution_count": null,
   "metadata": {
    "hide_input": true,
    "scrolled": true,
    "slideshow": {
     "slide_type": "-"
    }
   },
   "outputs": [],
   "source": [
    "# Define the function\n",
    "def f(x):\n",
    "    return x**2\n",
    "# Define the limits\n",
    "a, b = 0, 5\n",
    "# Drawing the curve\n",
    "tx = np.linspace(a,b,100)\n",
    "ty = f(tx)\n",
    "# Figure and axes\n",
    "fig, ax = plt.subplots()\n",
    "ax.plot(tx,ty)\n",
    "ax.fill_between(tx,ty,alpha=0.5)\n",
    "ax.set_xlabel(\"x\")\n",
    "ax.set_ylabel(\"y\")\n",
    "ax.set_title(\"$y=x^2$\");"
   ]
  },
  {
   "cell_type": "markdown",
   "metadata": {
    "slideshow": {
     "slide_type": "subslide"
    }
   },
   "source": [
    "We could try that Primary school technique of drawing and counting rectangles. One way would be to draw rectangles of height $y$ for a few different $x$-coordinates. If we calculate $y$ using the lefthand side of each rectangle, it might look like this"
   ]
  },
  {
   "cell_type": "code",
   "execution_count": null,
   "metadata": {
    "cell_style": "split",
    "hide_input": true,
    "scrolled": true,
    "slideshow": {
     "slide_type": "-"
    }
   },
   "outputs": [],
   "source": [
    "# Number of rectangles\n",
    "n = 5\n",
    "# width of rectangles\n",
    "h = (b-a)/n\n",
    "# x-coords for rectangles\n",
    "xs = np.linspace(a,b-h,n)\n",
    "# find y at left of rectangle\n",
    "ys = f(xs)\n",
    "# Figure and axes\n",
    "fig, ax = plt.subplots()\n",
    "ax.set_xlabel(\"x\")\n",
    "ax.set_ylabel(\"y\")\n",
    "ax.set_title(\"$y=x^2$\");\n",
    "ax.bar(xs,ys,h,align='edge',alpha=0.5)\n",
    "# For drawing the curve\n",
    "tx = np.linspace(a,b,100)\n",
    "ty = f(tx)\n",
    "ax.plot(tx,ty);"
   ]
  },
  {
   "cell_type": "code",
   "execution_count": null,
   "metadata": {
    "cell_style": "split",
    "hide_input": true,
    "scrolled": true,
    "slideshow": {
     "slide_type": "fragment"
    }
   },
   "outputs": [],
   "source": [
    "print(\"{} x-coordinates, between {} and {}\".format(n, a, b))\n",
    "print(xs)\n",
    "print(\"{} rectangles of width {}\".format(n,h))\n",
    "rs = [h*y for y in ys]\n",
    "print(\"with heights\")\n",
    "print(rs,\"=\", sum(rs))"
   ]
  },
  {
   "cell_type": "markdown",
   "metadata": {
    "slideshow": {
     "slide_type": "subslide"
    }
   },
   "source": [
    "Obviously this gave an *underestimate* of the true area. What if we calculated $y$ at the *righthand* edge of each rectangle?"
   ]
  },
  {
   "cell_type": "code",
   "execution_count": null,
   "metadata": {
    "cell_style": "split",
    "hide_input": true,
    "slideshow": {
     "slide_type": "fragment"
    }
   },
   "outputs": [],
   "source": [
    "n = 5\n",
    "# width of rectangles\n",
    "h = (b-a)/n\n",
    "# x-coords\n",
    "xs = np.linspace(a,b-h,n)\n",
    "# find y at **right** of rectangle\n",
    "ys = f(xs+h)\n",
    "# Figure and axes\n",
    "fig, ax = plt.subplots()\n",
    "ax.set_xlabel(\"x\")\n",
    "ax.set_ylabel(\"y\")\n",
    "ax.set_title(\"$y=x^2$\");\n",
    "ax.bar(xs,ys,h,align='edge',alpha=0.5)\n",
    "# For drawing the curve\n",
    "tx = np.linspace(a,b,100)\n",
    "ty = f(tx)\n",
    "ax.plot(tx,ty);"
   ]
  },
  {
   "cell_type": "code",
   "execution_count": null,
   "metadata": {
    "cell_style": "split",
    "hide_input": true,
    "slideshow": {
     "slide_type": "-"
    }
   },
   "outputs": [],
   "source": [
    "print(\"{} x-coordinates, between {} and {}\".format(n, a, b))\n",
    "print(xs)\n",
    "print(\"{} rectangles of width {}\".format(n,h))\n",
    "print(\"with heights\")\n",
    "rs = [h*y for y in ys]\n",
    "print(rs,\"=\", sum(rs))"
   ]
  },
  {
   "cell_type": "markdown",
   "metadata": {
    "slideshow": {
     "slide_type": "subslide"
    }
   },
   "source": [
    "Let's see both the underestimate and the overestimate on the same graph."
   ]
  },
  {
   "cell_type": "code",
   "execution_count": null,
   "metadata": {
    "cell_style": "split",
    "hide_input": true,
    "scrolled": true,
    "slideshow": {
     "slide_type": "-"
    }
   },
   "outputs": [],
   "source": [
    "# Number of rectangles\n",
    "n = 5\n",
    "# Define the limits\n",
    "a, b = 0, 5\n",
    "# width of rectangles\n",
    "h = (b-a)/n\n",
    "#print(\"Rectangles have width: {}\".format(h))\n",
    "# x-coords\n",
    "xs = np.linspace(a,b-h,n)\n",
    "#print(\"Left x-coordinates\",xs)\n",
    "# find y at **left** of rectangle\n",
    "lys = f(xs)\n",
    "# find y at **right** of rectangle\n",
    "rys = f(xs+h)\n",
    "# Figure and axes\n",
    "fig, ax = plt.subplots()\n",
    "ax.set_xlabel(\"x\")\n",
    "ax.set_ylabel(\"y\")\n",
    "ax.set_title(\"$y=x^2$\");\n",
    "ax.bar(xs,lys,h,align='edge');\n",
    "ax.bar(xs,rys,h,align='edge',alpha=0.5)\n",
    "# For drawing the curve\n",
    "tx = np.linspace(a,b,100)\n",
    "ty = f(tx)\n",
    "ax.plot(tx,ty);"
   ]
  },
  {
   "cell_type": "code",
   "execution_count": null,
   "metadata": {
    "cell_style": "split",
    "hide_input": true,
    "scrolled": false,
    "slideshow": {
     "slide_type": "-"
    }
   },
   "outputs": [],
   "source": [
    "# left areas\n",
    "lrs = [h*y for y in lys]\n",
    "# right areas\n",
    "rrs = [h*y for y in rys]\n",
    "print(\"Underestimate\",sum(lrs))\n",
    "print(\"Overestimate\",sum(rrs))"
   ]
  },
  {
   "cell_type": "markdown",
   "metadata": {
    "slideshow": {
     "slide_type": "-"
    }
   },
   "source": [
    " How could we get a better approximation for the true area?"
   ]
  },
  {
   "cell_type": "markdown",
   "metadata": {
    "slideshow": {
     "slide_type": "fragment"
    }
   },
   "source": [
    "Increase the value of `n` in the plotting code above. What do you notice about the over- and underestimates of the area?"
   ]
  },
  {
   "cell_type": "markdown",
   "metadata": {
    "slideshow": {
     "slide_type": "subslide"
    }
   },
   "source": [
    "### Notation\n",
    "\n",
    "We write $$\\int_0^5 x^2\\, \\text{d}x$$ for the area under the curve $y=x^2$ from $x=0$ to $x=5$.\n",
    "\n",
    "The $\\int$ symbol is a long S for sum, just like the capital Greek $\\Sigma$ except it represents a *continuous* rather than discrete sum."
   ]
  },
  {
   "cell_type": "markdown",
   "metadata": {
    "slideshow": {
     "slide_type": "subslide"
    }
   },
   "source": [
    "It seems $\\int_0^5 x^2\\, \\text{d}x\\approx 41.67$\n",
    "\n",
    "By changing the value of `b` in the plotting code above, find to 2 *d.p.*\n",
    "\n",
    "* $\\int_0^1 x^2\\, \\text{d}x$\n",
    "* $\\int_0^2 x^2\\, \\text{d}x$\n",
    "* $\\int_0^3 x^2\\, \\text{d}x$\n",
    "* $\\int_0^4 x^2\\, \\text{d}x$"
   ]
  },
  {
   "cell_type": "markdown",
   "metadata": {
    "slideshow": {
     "slide_type": "subslide"
    }
   },
   "source": [
    "* $\\int_0^1 x^2\\, \\text{d}x=\\dfrac{1^3}{3}$\n",
    "* $\\int_0^2 x^2\\, \\text{d}x=\\dfrac{2^3}{3}$\n",
    "* $\\int_0^3 x^2\\, \\text{d}x=\\dfrac{3^3}{3}$\n",
    "* $\\int_0^4 x^2\\, \\text{d}x=\\dfrac{4^3}{3}$\n",
    "* $\\int_0^5 x^2\\, \\text{d}x=\\dfrac{5^3}{3}$"
   ]
  },
  {
   "cell_type": "markdown",
   "metadata": {
    "slideshow": {
     "slide_type": "fragment"
    }
   },
   "source": [
    "Isn't $\\dfrac{x^3}{3}$ the *antiderivative* of $x^2$?\n",
    "\n",
    "Coincidence..?"
   ]
  },
  {
   "cell_type": "markdown",
   "metadata": {
    "slideshow": {
     "slide_type": "subslide"
    }
   },
   "source": [
    "# The Fundamental Theorem of Calculus\n",
    "\n",
    "Fortunately, we don't have to use an approximation to integrate any of the curves in your AS exams thanks to a fundamental connection between area and gradient.\n",
    "\n",
    "The rate at which you acquire area is just the height of the curve.\n",
    "\n",
    "In other words, **integration** (*area under*) and **differentiation** (*gradient of*) are inverse operations."
   ]
  },
  {
   "cell_type": "markdown",
   "metadata": {
    "slideshow": {
     "slide_type": "subslide"
    }
   },
   "source": [
    "### Notation\n",
    "\n",
    "We write the *indefinite* integral, or *antiderivative*\n",
    "\n",
    "$$\\int x^2\\, \\text{d}x = \\dfrac{x^3}{3} + c$$\n",
    "\n",
    "Use $\\int$ when you're just doing \"the opposite of differentiation\" and $\\int_a^b$ when you're finding an area.\n",
    "\n",
    "$c$ is some number, called the *constant of integration*. Why is it there? What happens when you differentiate a constant?"
   ]
  },
  {
   "cell_type": "markdown",
   "metadata": {
    "slideshow": {
     "slide_type": "subslide"
    }
   },
   "source": [
    "## The rules\n",
    "\n",
    "$$\\int x^n\\, \\text{d}x = \\dfrac{x^{n+1}}{n+1}+c$$\n",
    "\n",
    "$$\\int f(x) + g(x) \\,\\text{d}x = \\int f(x)\\,\\text{d}x + \\int g(x)\\,\\text{d}x = F(x)+G(x)+c$$"
   ]
  },
  {
   "cell_type": "markdown",
   "metadata": {
    "slideshow": {
     "slide_type": "subslide"
    }
   },
   "source": [
    "To find an area\n",
    "\n",
    "$$\\text{Area under }y=f(x)\\text{ between }x=a\\text{ and }x=b\\text{ is given by }$$\n",
    "\n",
    "$$\\int_a^b f(x)\\,\\text{d}x = \\left[F(x)\\right]_a^b = F(b) - F(a)$$"
   ]
  }
 ],
 "metadata": {
  "celltoolbar": "Slideshow",
  "kernelspec": {
   "display_name": "Python 3",
   "language": "python",
   "name": "python3"
  },
  "language_info": {
   "codemirror_mode": {
    "name": "ipython",
    "version": 3
   },
   "file_extension": ".py",
   "mimetype": "text/x-python",
   "name": "python",
   "nbconvert_exporter": "python",
   "pygments_lexer": "ipython3",
   "version": "3.6.7"
  }
 },
 "nbformat": 4,
 "nbformat_minor": 2
}
