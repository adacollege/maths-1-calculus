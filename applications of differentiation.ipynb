{
 "cells": [
  {
   "cell_type": "code",
   "execution_count": 1,
   "metadata": {
    "slideshow": {
     "slide_type": "skip"
    }
   },
   "outputs": [],
   "source": [
    "import numpy as np\n",
    "import matplotlib.pyplot as plt\n",
    "from sympy import *\n",
    "from IPython.display import Math, display\n",
    "%matplotlib inline\n",
    "init_printing('latex')"
   ]
  },
  {
   "cell_type": "code",
   "execution_count": 2,
   "metadata": {
    "slideshow": {
     "slide_type": "skip"
    }
   },
   "outputs": [],
   "source": [
    "plt.style.use('seaborn')\n",
    "x, y = symbols('x y')"
   ]
  },
  {
   "cell_type": "markdown",
   "metadata": {
    "slideshow": {
     "slide_type": "slide"
    }
   },
   "source": [
    "# Differentiation from first principles\n",
    "\n",
    "You may be asked to use the definition $$\\dfrac{\\text{d}y}{\\text{d}x}=\\lim_{h\\to 0}\\dfrac{f(x+h)-f(x)}{h}$$ to find the derivatives of some simple functions.\n",
    "\n",
    "For example,\n",
    "\n",
    "> prove that if $y=5x^2$, then $\\dfrac{\\text{d}y}{\\text{d}x}=10x$"
   ]
  },
  {
   "cell_type": "markdown",
   "metadata": {
    "slideshow": {
     "slide_type": "subslide"
    }
   },
   "source": [
    "We sometimes use the alternative notation $f'$ for the derivative of $f$.\n",
    "\n",
    "If $y=f(x)$ then $\\dfrac{\\text{d}y}{\\text{d}x}=f'(x)$"
   ]
  },
  {
   "cell_type": "markdown",
   "metadata": {
    "slideshow": {
     "slide_type": "slide"
    }
   },
   "source": [
    "# Rules for differentiating\n",
    "\n",
    "Mostly though, you'll just be using the rules we've found\n",
    "\n",
    "* If $y=x^n$, then $\\dfrac{\\text{d}y}{\\text{d}x}=nx^{n-1}$\n",
    "* If $y=kf(x)$, then $\\dfrac{\\text{d}y}{\\text{d}x}=kf'(x)$\n",
    "* If $y=f(x)+g(x)$ then $\\dfrac{\\text{d}y}{\\text{d}x}=f'(x)+g'(x)$\n",
    "\n",
    "> Differentiate\n",
    "1. $f(x)=x^2+x+1$\n",
    "1. $f(x)=2x^4-x^2$\n",
    "1. $f(x)=\\dfrac{x^5}{2}-\\dfrac{x^4}{3}+\\dfrac{x^3}{4}-79$"
   ]
  },
  {
   "cell_type": "markdown",
   "metadata": {
    "slideshow": {
     "slide_type": "slide"
    }
   },
   "source": [
    "# Applying differentiation\n",
    "\n",
    "The two most common applications at this stage are\n",
    "\n",
    "* finding maximum or minimum points (or other *stationary points*) on curves\n",
    "* recognising where a function is *increasing* or *decreasing*\n",
    "* finding *tangents* (and *normals*)"
   ]
  },
  {
   "cell_type": "markdown",
   "metadata": {
    "slideshow": {
     "slide_type": "subslide"
    }
   },
   "source": [
    "> Use `desmos` to plot the graphs of the following cubic functions\n",
    ">\n",
    "* $y=2x^3-9x^2+12x-3$\n",
    "* $y=x^3-3x^2+3x+2$\n",
    "* $y=x^3+3x+4$\n",
    ">\n",
    "> What's the same? What's different?"
   ]
  },
  {
   "cell_type": "markdown",
   "metadata": {
    "slideshow": {
     "slide_type": "subslide"
    }
   },
   "source": [
    "> If a curve has reached a turning point (a *local* minimum, or a *local* maximum), what is the gradient?"
   ]
  },
  {
   "cell_type": "markdown",
   "metadata": {
    "slideshow": {
     "slide_type": "subslide"
    }
   },
   "source": [
    "We can find *stationary points* on a curve by looking for solutions to\n",
    "$$\\dfrac{\\text{d}y}{\\text{d}x}=0$$\n",
    "\n",
    "> Find any stationary points on the cubic below."
   ]
  },
  {
   "cell_type": "code",
   "execution_count": 3,
   "metadata": {
    "hide_input": true,
    "scrolled": true,
    "slideshow": {
     "slide_type": "-"
    }
   },
   "outputs": [
    {
     "data": {
      "text/latex": [
       "$\\displaystyle f(x)=2 x^{3} + 6 x^{2} - 18 x - 3$"
      ],
      "text/plain": [
       "<IPython.core.display.Math object>"
      ]
     },
     "metadata": {},
     "output_type": "display_data"
    }
   ],
   "source": [
    "# random solvable quadratic, to make sure we get stationary points\n",
    "a = np.random.choice([6,6,6,-6]) # multiples of 6 avoid fractions\n",
    "p, q, c = np.random.randint(-3,4,3)\n",
    "dy = expand(a*(x-p)*(x-q))\n",
    "\n",
    "# integrate it to get a nice cubic\n",
    "y = integrate(dy,x)+c\n",
    "display(Math(\"f(x)={}\".format(latex(y))))"
   ]
  },
  {
   "cell_type": "code",
   "execution_count": 4,
   "metadata": {
    "hide_input": true,
    "scrolled": false,
    "slideshow": {
     "slide_type": "fragment"
    }
   },
   "outputs": [
    {
     "data": {
      "text/latex": [
       "$\\displaystyle f'(x)=6 x^{2} + 12 x - 18$"
      ],
      "text/plain": [
       "<IPython.core.display.Math object>"
      ]
     },
     "metadata": {},
     "output_type": "display_data"
    }
   ],
   "source": [
    "display(Math(\"f'(x)={}\".format(latex(dy))))"
   ]
  },
  {
   "cell_type": "markdown",
   "metadata": {
    "slideshow": {
     "slide_type": "subslide"
    }
   },
   "source": [
    "We want to know when the derivative is zero, so"
   ]
  },
  {
   "cell_type": "code",
   "execution_count": 5,
   "metadata": {
    "hide_input": true,
    "slideshow": {
     "slide_type": "-"
    }
   },
   "outputs": [
    {
     "data": {
      "text/latex": [
       "$\\displaystyle 6 x^{2} + 12 x - 18=0 \\implies$"
      ],
      "text/plain": [
       "<IPython.core.display.Math object>"
      ]
     },
     "metadata": {},
     "output_type": "display_data"
    }
   ],
   "source": [
    "display(Math(\"{}=0 \\implies\".format(latex(dy))))"
   ]
  },
  {
   "cell_type": "code",
   "execution_count": 6,
   "metadata": {
    "hide_input": true,
    "scrolled": true,
    "slideshow": {
     "slide_type": "fragment"
    }
   },
   "outputs": [
    {
     "data": {
      "text/latex": [
       "$\\displaystyle x=-3\\,\\text{or}\\,x=1$"
      ],
      "text/plain": [
       "<IPython.core.display.Math object>"
      ]
     },
     "metadata": {},
     "output_type": "display_data"
    }
   ],
   "source": [
    "stx = solve(dy,x)\n",
    "display(Math(\"x={}\\,\\\\text{{or}}\\,x={}\".format(stx[0],stx[1])))"
   ]
  },
  {
   "cell_type": "markdown",
   "metadata": {
    "slideshow": {
     "slide_type": "subslide"
    }
   },
   "source": [
    "For the $y$-coordinates"
   ]
  },
  {
   "cell_type": "code",
   "execution_count": 7,
   "metadata": {
    "hide_input": true,
    "slideshow": {
     "slide_type": "-"
    }
   },
   "outputs": [
    {
     "data": {
      "text/latex": [
       "$\\displaystyle f(-3)=51\\text{ and }f(1)=-13$"
      ],
      "text/plain": [
       "<IPython.core.display.Math object>"
      ]
     },
     "metadata": {},
     "output_type": "display_data"
    }
   ],
   "source": [
    "display(Math(\"f({})={}\\\\text{{ and }}f({})={}\".format(stx[0],y.subs(x,stx[0]),stx[1],y.subs(x,stx[1]))))"
   ]
  },
  {
   "cell_type": "markdown",
   "metadata": {
    "slideshow": {
     "slide_type": "fragment"
    }
   },
   "source": [
    "So the stationary points are"
   ]
  },
  {
   "cell_type": "code",
   "execution_count": 8,
   "metadata": {
    "hide_input": true,
    "scrolled": true,
    "slideshow": {
     "slide_type": "-"
    }
   },
   "outputs": [
    {
     "data": {
      "text/latex": [
       "$\\displaystyle (-3,51)\\text{ and }(1,-13)$"
      ],
      "text/plain": [
       "<IPython.core.display.Math object>"
      ]
     },
     "metadata": {},
     "output_type": "display_data"
    }
   ],
   "source": [
    "display(Math(\"({},{})\\\\text{{ and }}({},{})\".format(stx[0],y.subs(x,stx[0]),stx[1],y.subs(x,stx[1]))))"
   ]
  },
  {
   "cell_type": "markdown",
   "metadata": {
    "slideshow": {
     "slide_type": "slide"
    }
   },
   "source": [
    "> Find the stationary points, or show that there aren't any, on the cubics you looked at earlier\n",
    ">\n",
    "* $y=2x^3-9x^2+12x-3$\n",
    "* $y=x^3-3x^2+3x+2$\n",
    "* $y=x^3+3x+4$"
   ]
  }
 ],
 "metadata": {
  "celltoolbar": "Slideshow",
  "kernelspec": {
   "display_name": "Python 3",
   "language": "python",
   "name": "python3"
  },
  "language_info": {
   "codemirror_mode": {
    "name": "ipython",
    "version": 3
   },
   "file_extension": ".py",
   "mimetype": "text/x-python",
   "name": "python",
   "nbconvert_exporter": "python",
   "pygments_lexer": "ipython3",
   "version": "3.6.8"
  }
 },
 "nbformat": 4,
 "nbformat_minor": 2
}
